{
  "cells": [
    {
      "cell_type": "markdown",
      "metadata": {
        "id": "xSg4xeHbPFTb"
      },
      "source": [
        "\n",
        "\n",
        "## **Ejercicio 1)** Importando librerías\n",
        "\n",
        "**1)** Importe las librerías `numpy` para operar con arrays, `scipy` para utilizar rutinas de algebra lineal y `matplotlib.pyplot` para graficar.\n",
        "\n",
        "**2)** Suba el archivo \"libreria\" `ode.py` que fabricó en el práctico 4), e impórtelo."
      ]
    },
    {
      "cell_type": "code",
      "execution_count": 3,
      "metadata": {
        "id": "I8N3D_nU1_oT"
      },
      "outputs": [],
      "source": [
        "# 1.1)\n",
        "import numpy as np\n",
        "import scipy as sp\n",
        "import scipy.linalg as linalg\n",
        "import matplotlib.pyplot as plt"
      ]
    },
    {
      "cell_type": "code",
      "execution_count": 5,
      "metadata": {
        "id": "RmyNi-fhTmWm"
      },
      "outputs": [],
      "source": [
        "# 1.2)\n",
        "#import ode\n",
        "\n",
        "def euler(f,x,t,h,p):\n",
        "    \"\"\"\n",
        "    Calcula un paso de integración del método de Euler.\n",
        "\n",
        "    Argumentos de entrada:\n",
        "\n",
        "        f : R^n,R -> R^n\n",
        "        x = x(t) : R^n\n",
        "        t = tiempo : R\n",
        "        h = paso de tiempo : R\n",
        "        p = parametros : R^q\n",
        "\n",
        "    Retorna aproximacion numérica de\n",
        "\n",
        "        x(t+h) : R^n\n",
        "\n",
        "    según el método de Euler.\n",
        "\n",
        "    # Ejemplos:\n",
        "    \"\"\"\n",
        "    return x+h*f(x,t,p)\n",
        "\n",
        "def rk4(f,x,t,h,p):\n",
        "    \"\"\"\n",
        "    Calcula un paso de integración del método de Runge Kutta orden 4.\n",
        "\n",
        "    Argumentos de entrada:\n",
        "\n",
        "        f : R^n -> R^n\n",
        "        x = x(t) : R^n\n",
        "        t = tiempo : R\n",
        "        h = paso de tiempo : R\n",
        "        p = parametros : R^q\n",
        "\n",
        "    Retorna aproximacion numérica de\n",
        "\n",
        "        x(t+h) : R^n\n",
        "\n",
        "    según el método de Runge-Kutta de orden 4.\n",
        "\n",
        "    # Ejemplos:\n",
        "    \"\"\"\n",
        "    k1 = f(x,t,p)\n",
        "    k2 = f(x+0.5*h*k1,t+0.5*h,p)\n",
        "    k3 = f(x+0.5*h*k2,t+0.5*h,p)\n",
        "    k4 = f(x+h*k3,t+h,p)\n",
        "    return x+h*(k1+2.0*k2+2.0*k3+k4)/6.0\n",
        "\n",
        "def integrador_ode(m,f,xa,a,b,k,p,c=lambda x,t,p:x):\n",
        "    \"\"\"\n",
        "    Integra numéricamente la ODE\n",
        "\n",
        "        dx/dt = f(x,t)\n",
        "\n",
        "    sobre el intervalo t:[a,b] usando k pasos de integración y el método m, bajo condicion inicial x(a)=x0.\n",
        "    No es necesario que a<b.\n",
        "\n",
        "    Argumentos de entrada:\n",
        "\n",
        "        m = metodo de integracion (ej. euler, rk2, etc.)\n",
        "        f : R^n -> R^n\n",
        "        xa = condicion inicial : R\n",
        "        a = tiempo inicial : R\n",
        "        b = tiempo final : R\n",
        "        k = num. pasos de integracion : N\n",
        "        p = parametros : R^q\n",
        "        c = función condicionante : R^n,R,p -> R^n\n",
        "\n",
        "    Retorna:\n",
        "\n",
        "        t : R^{k+1} , t_j = a+j*h para j=0,1,...,k\n",
        "        w : R^{n,k+1} , w_ij = x_i(t_j) para i=0,1,...,n-1 y j=0,1,...,k\n",
        "\n",
        "    donde a+k*dt = b.\n",
        "    \"\"\"\n",
        "    assert k>0\n",
        "    n = len(xa)\n",
        "    h = (b-a)/k\n",
        "    w = np.zeros((n,k+1)) # Produce un array con forma y tipo especificada con los parametros,\n",
        "                          # lleno de ceros. la forma puede ser espcificada con un entero o tupla (n,k+1)\n",
        "    t = np.zeros(k+1)\n",
        "    w[:,0] = xa           # actualiza la posicion inicial (columna de indice 0) de las variables con los valores\n",
        "                          # de las condiciones iniciales\n",
        "    t[0] = a              # actualiza la posicion cero con el valor del tiempo inicial\n",
        "\n",
        "    for j in range(k):    #Aca se produce la iteración en j\n",
        "\n",
        "        t[j+1] = t[j] + h                # iteracion tiempo\n",
        "        w[:,j+1] = m(f,w[:,j],t[j],h,p)  # iteracion de w\n",
        "        w[:,j+1] = c(w[:,j+1],t[j+1],p)  # condicion sobre w\n",
        "\n",
        "    return t,w"
      ]
    },
    {
      "cell_type": "markdown",
      "metadata": {
        "id": "NRYEofSD0xoF"
      },
      "source": [
        "# El modelo *Integrate and Fire*\n",
        "\n",
        "## Teoría\n",
        "\n",
        "El modelo *Integrate and Fire* del comportamiento de una neurona viene descripto por dos ingredientes. En primer lugar, la ODE\n",
        "\n",
        "\\begin{align*}\n",
        "\\frac{dV}{dt}\n",
        "&=&\n",
        "f(V(t))\n",
        "\\\\\n",
        "&=&\n",
        "\\frac{1}{\\tau}\n",
        "\\left(\n",
        "E-V(t)\n",
        "+\n",
        "RI(t)\n",
        "\\right)\n",
        "\\end{align*}\n",
        "\n",
        "donde:\n",
        "\n",
        "* $V(t)$ representa el potencial de membrana al tiempo $t$,\n",
        "\n",
        "* $E\\approx -65mV$ representa el potencial de reposo,\n",
        "\n",
        "* $\\tau\\approx 10ms$ representa el tiempo de relajación,\n",
        "\n",
        "* $R\\approx 10M\\Omega$ representa una resistencia eléctrica, y\n",
        "\n",
        "* $I(t)\\approx 1nA$ representa una corriente/señal de entrada.\n",
        "\n",
        "En segundo lugar, un mecanismo de disparo definido por\n",
        "\n",
        "\\begin{align*}\n",
        "V(t) \\to E\n",
        "\\end{align*}\n",
        "\n",
        "cuando\n",
        "\n",
        "\\begin{align*}\n",
        "V(t) > V_u\n",
        "\\end{align*}\n",
        "\n",
        "donde:\n",
        "\n",
        "* $V_u \\approx -50mV$ representa un potencial umbral.\n",
        "\n",
        "Es decir, según el mecanismo de disparo, el potencial de membrana $V(t)$ se resetea a su valor de reposo $E$ si supera cierto valor umbral $V_u$.\n",
        "\n",
        "## Unidades\n",
        "\n",
        "* p = pico = $10^{-12}$\n",
        "* n = nano = $10^{-9}$\n",
        "* $\\mu$ = micro = $10^{-6}$\n",
        "* m = mili = $10^{-3}$\n",
        "* ...\n",
        "* k = kilo = $10^{3}$\n",
        "* M = Mega = $10^{6}$\n",
        "* G = Giga = $10^{9}$\n",
        "* T = Tera = $10^{12}$\n",
        "\n",
        "### Ley de Ohm\n",
        "\n",
        "Si $\\Omega$ = Ohmio, V = Voltio y A = Amper, entonces\n",
        "\n",
        "$$ 1\\, Ohm = 1 \\Omega = \\frac{1 V}{1 A} $$\n",
        "\n",
        "### Ley RC\n",
        "\n",
        "Si s = segundos y F = Faradios, entonces\n",
        "\n",
        "$$ 1 s = 1 \\Omega \\times 1 F $$\n",
        "\n",
        "### Hertz\n",
        "\n",
        "Si Hz = Hertz, luego\n",
        "\n",
        "$$ 1 Hz = \\frac{1}{1 s} $$\n",
        "\n",
        "### Referencias\n",
        "\n",
        "* https://technologystudent.com/elec1/ohm1.htm\n",
        "\n",
        "* https://en.wikipedia.org/wiki/Biological_neuron_model#Leaky_integrate-and-fire\n",
        "\n",
        "* https://compneuro.neuromatch.io/tutorials/W2D3_BiologicalNeuronModels/student/W2D3_Tutorial1.html"
      ]
    },
    {
      "cell_type": "markdown",
      "metadata": {
        "id": "NcaGEHAd10sb"
      },
      "source": [
        "## **Ejercicio 2)** Dinámica con mecanismo de disparo desactivado\n",
        "\n",
        "En lo que sigue, se considera desactivado el mecanismo de disparo.\n",
        "\n",
        "**1)** Resuelva analíticamente la ODE del modelo *Integrate and Fire* para una condición inicial arbitraria $V(0)=V_0$ y una corriente de entrada $I=0$.\n",
        "\n",
        "**2)** Grafique la solución para $V_0=10mV$ y $t\\in [0,100]ms$. Incorpore al gráfico una línea punteada indicando el potencial de reposo.\n",
        "\n",
        "**3)** Realice un análisis geométrico de la solución calculada. Incorpore flechas del campo vectorial así como los puntos fijos estables, inestables y marginales, si los hubiere.\n",
        "\n",
        "**4)** Repita **1)**, **2)** y **3)** para el caso de corriente de entrada constante, $I=2$nA.\n",
        "\n",
        "### Extra\n",
        "\n",
        "**5)** Resuelva analíticamente la ODE para una corriente de entrada $I:t\\to I(t)$ arbitraria."
      ]
    },
    {
      "cell_type": "markdown",
      "metadata": {
        "id": "P4PcT2m4P7z-"
      },
      "source": [
        "1)\n",
        "Partimos de la ODE para $I=0$\n",
        "\n",
        "bla bla bla ...\n"
      ]
    },
    {
      "cell_type": "code",
      "execution_count": 6,
      "metadata": {
        "id": "2EwuGG0gZs_-"
      },
      "outputs": [],
      "source": [
        "def f(v,t):\n",
        "\n",
        "  tao = 10\n",
        "  E = -65\n",
        "\n",
        "  return (E-(E-v)*np.exp(-t/tao))"
      ]
    },
    {
      "cell_type": "code",
      "execution_count": 7,
      "metadata": {
        "id": "knCwGgPp5-bm"
      },
      "outputs": [
        {
          "data": {
            "text/plain": [
              "<matplotlib.legend.Legend at 0x72725413eb90>"
            ]
          },
          "execution_count": 7,
          "metadata": {},
          "output_type": "execute_result"
        },
        {
          "data": {
            "image/png": "[encoded data removed]",
            "text/plain": [
              "<Figure size 640x480 with 1 Axes>"
            ]
          },
          "metadata": {},
          "output_type": "display_data"
        }
      ],
      "source": [
        "#2.2)\n",
        "t = np.linspace(0,100,100) # 1000 pues h=0.1\n",
        "v_0 = np.array([10])\n",
        "p = np.array([10,-65])\n",
        "\n",
        "plt.figure()\n",
        "plt.ylabel('v(t) (mV)')\n",
        "plt.xlabel('t (ms)')\n",
        "plt.scatter(t,f(v_0,t,p),label='Solución analítica', color='red')\n",
        "plt.legend()"
      ]
    },
    {
      "cell_type": "code",
      "execution_count": 21,
      "metadata": {
        "id": "pohcIZXMJ-6V"
      },
      "outputs": [
        {
          "data": {
            "image/png": "[encoded data removed]",
            "text/plain": [
              "<Figure size 640x480 with 1 Axes>"
            ]
          },
          "metadata": {},
          "output_type": "display_data"
        }
      ],
      "source": [
        "# 2.3)\n",
        "#Realice un análisis geométrico de la solución calculada. Incorpore flechas del campo vectorial así como los puntos fijos estables, inestables y marginales, si los hubiere.\n",
        "\n",
        "#Teniendo en cuenta que I es 0 y que la ecuación es lineal, la solución es una exponencial que tiende a -65 mV. Por lo tanto, el punto fijo es -65 mV y es estable.\n",
        "# dVdt = (1/tao) * (E - V)\n",
        "\n",
        "# El unico punto fijo es -65mV que es cuando dVdt = 0 y V = E.\n",
        "# Para esto, se puede usar la función quiver de matplotlib.\n",
        "\n",
        "V = np.linspace(-65,10,40)\n",
        "dV_dt = (-65 - V)/10\n",
        "\n",
        "\n",
        "plt.figure()\n",
        "plt.quiver(V, np.zeros_like(V), dV_dt, np.zeros_like(dV_dt),angles='xy',scale_units='xy', scale=1.5)  \n",
        "plt.axvline(x=-65, color='r', linestyle='--', label='Punto fijo')\n",
        "plt.xlabel('V (mV)')\n",
        "plt.ylabel('dV/dt')\n",
        "plt.title('Campo vectorial de la ecuación de la membrana')\n",
        "plt.show()\n",
        "\n",
        "\n",
        "\n",
        "\n"
      ]
    },
    {
      "cell_type": "code",
      "execution_count": 7,
      "metadata": {
        "id": "v2EHeeMulFPt"
      },
      "outputs": [],
      "source": [
        "def f2(v,t):\n",
        "    \"\"\"\n",
        "    Solucion analitica para la  ODE \n",
        "    dV/dt = 1/tao (E - V + R*I)\n",
        "    con condicion inicial\n",
        "    V(0) = v0 \n",
        "    I = 2\n",
        "\n",
        "    Los valores las constantes son:\n",
        "    E = -65mV\n",
        "    tao = 10ms\n",
        "    R = 10\n",
        "    \"\"\"\n",
        "    E = -65\n",
        "    tao = 10\n",
        "    R = 10\n",
        "    return (E -(E - v + R*2)*np.exp(-t/tao) - 2*R)"
      ]
    },
    {
      "cell_type": "code",
      "execution_count": 104,
      "metadata": {},
      "outputs": [
        {
          "data": {
            "text/plain": [
              "<matplotlib.legend.Legend at 0x727237b21a80>"
            ]
          },
          "execution_count": 104,
          "metadata": {},
          "output_type": "execute_result"
        },
        {
          "data": {
            "image/png": "[encoded data removed]",
            "text/plain": [
              "<Figure size 640x480 with 1 Axes>"
            ]
          },
          "metadata": {},
          "output_type": "display_data"
        }
      ],
      "source": [
        "#2.2)\n",
        "t = np.linspace(0,100,100)\n",
        "v_0 = np.array([10])\n",
        "p = np.array([10,-65])\n",
        "\n",
        "plt.figure()\n",
        "plt.ylabel('v(t) (mV)')\n",
        "plt.xlabel('t (ms)')\n",
        "plt.scatter(t,f2(v_0,t),label='Solución analítica', color='red')\n",
        "plt.legend()"
      ]
    },
    {
      "cell_type": "code",
      "execution_count": 44,
      "metadata": {},
      "outputs": [
        {
          "data": {
            "image/png": "[encoded data removed]",
            "text/plain": [
              "<Figure size 640x480 with 1 Axes>"
            ]
          },
          "metadata": {},
          "output_type": "display_data"
        }
      ],
      "source": [
        "# 2.3)\n",
        "#Realice un análisis geométrico de la solución calculada. Incorpore flechas del campo vectorial así como los puntos fijos estables, inestables y marginales, si los hubiere.\n",
        "\n",
        "#Teniendo en cuenta que I es 0 y que la ecuación es lineal, la solución es una exponencial que tiende a -65 mV. Por lo tanto, el punto fijo es -65 mV y es estable.\n",
        "# dVdt = (1/tao) * (E - V)\n",
        "\n",
        "# El unico punto fijo es -65mV que es cuando dVdt = 0 y V = E.\n",
        "# Para esto, se puede usar la función quiver de matplotlib.\n",
        "\n",
        "V = np.linspace(-55,-30,40)\n",
        "dV_dt = (-65 - V + 10*2)/10\n",
        "\n",
        "\n",
        "plt.figure()\n",
        "plt.quiver(V, np.zeros_like(V), dV_dt, np.zeros_like(dV_dt),angles='xy',scale_units='xy', scale=1.5)  \n",
        "plt.axvline(x=-47.9, color='r', linestyle='--', label='Punto fijo')\n",
        "plt.axvline(x=-42.2, color='r', linestyle='--', label='Punto fijo')\n",
        "plt.xlabel('V (mV)')\n",
        "plt.ylabel('dV/dt')\n",
        "plt.title('Campo vectorial de la ecuación de la membrana')\n",
        "plt.show()"
      ]
    },
    {
      "cell_type": "markdown",
      "metadata": {
        "id": "ZA8o18QvZLWY"
      },
      "source": [
        "## **Ejercicio 3)** Dinámica con mecanismo de disparo activado\n",
        "\n",
        "**1)** Resuelva numéricamente la ODE del modelo *Integrate and Fire* en el intervalo $t\\in [0,200]ms$ para la condición inicial $V(0)=E$ y una corriente de entrada $I(t)=I_0$ para todo $t$ con $I_0=2nA$. Utilice el paso de integración $h=0.05ms$.\n",
        "\n",
        "**2)** Grafique la solución computada en el inciso **3.1)**. Incorpore al gráfico la solución exacta del inciso **2.1)**, en donde el mecanismo de disparo está desactivado, para la misma condición inicial del inciso **3.1)**. Grafique, también, líneas punteadas horizontales marcando los valores de $V^*$ y $V_u$, donde $V^*$ es el valor de $V$ tal que $f(V)=0$.\n",
        "\n",
        "**3)** Para el caso indicado en el inciso **3.1)**, calcule analíticamente el período de disparo.\n",
        "Observe si el valor computado corresponde con el observado en el inciso **3.2)**.\n",
        "Grafíque la frencuencia en función de $I_0$.\n",
        "Que ocurre para valores pequeños de $I_0$?\n",
        "\n",
        "\n",
        "**4)** Repita **3.1)** y **3.2)** con $I_e(t)=I_0 \\cos(t/30ms)$ e $I_0=2.5nA$ para $0\\,ms\\leq t\\leq 500\\,ms$. En este caso, no incluya la solución exacta del inciso **2.1)**, pero sí lineas punteadas horizontales para marcar los valores de $E$ y $V_u$.\n",
        "\n",
        "**5)** Repita **3.1)** y **3.2)** con\n",
        "\n",
        "\\begin{equation}\n",
        "I(t)= I_0 \\, \\left(\n",
        "    \\cos{\\left( \\frac{t}{3ms} \\right)} +\n",
        "    \\sin{\\left( \\frac{t}{5ms} \\right)} +\n",
        "    \\cos{\\left( \\frac{t}{7ms} \\right)} +\n",
        "    \\sin{\\left( \\frac{t}{11ms} \\right)} +\n",
        "    \\cos{\\left( \\frac{t}{13ms} \\right)}  \\right)^2 \\, nA \\,\n",
        "    \\;\\;\\;(4)\n",
        "\\end{equation}\n",
        "\n",
        "e $I_0=0.35 nA$ para $0\\,ms\\leq t\\leq 200\\,ms$. Al igual que en inciso anterior, no incluya la solución exacta del inciso **2.a)**, pero sí lineas punteadas horizontales para marcar los valores de $E$ y $V_u$."
      ]
    },
    {
      "cell_type": "code",
      "execution_count": 8,
      "metadata": {
        "id": "TsHJjcCmTxa1"
      },
      "outputs": [],
      "source": [
        "# 3.1)\n",
        "def f3(x,t,p):\n",
        "    \"\"\"  \n",
        "    Modelo de neurona de integración y disparo. Dado por la ODE:\n",
        "    dV/dt = 1/tao (E - V + R*I)\n",
        "    Donde los parametros son:\n",
        "    \n",
        "    V = Potencial de membrana (mV)\n",
        "    E = Potencial de reposo (-65mV)\n",
        "    tao = tiempo de relajación (10ms)\n",
        "    R = resistencia electrica (10mV/nA)\n",
        "    I(t) = corriente de entrada (nA)\n",
        "\n",
        "    Donde las condiciones iniciales son:\n",
        "    V(0) = v0\n",
        "    I(t) = i0\n",
        "    \"\"\"\n",
        "    E = p[0]\n",
        "    tao = p[1]\n",
        "    R = p[2]\n",
        "    I = p[3] # Corriente de entrada\n",
        "    return np.array([(E - x + R*I)/tao])"
      ]
    },
    {
      "cell_type": "code",
      "execution_count": 9,
      "metadata": {},
      "outputs": [],
      "source": [
        "def c(v,t,p):\n",
        "    if v[0] > (-50):\n",
        "        v[0] = p[0]\n",
        "    return v"
      ]
    },
    {
      "cell_type": "code",
      "execution_count": 10,
      "metadata": {},
      "outputs": [],
      "source": [
        "v_0 = np.array([-65])\n",
        "a,b = 0,200\n",
        "h = 0.05\n",
        "k = int((b-a)/h)\n",
        "p = np.array([-65,10,10,2]) # E, tao, R, I\n",
        "\n"
      ]
    },
    {
      "cell_type": "code",
      "execution_count": 27,
      "metadata": {},
      "outputs": [],
      "source": [
        "t,w = integrador_ode(rk4, f3, v_0, a, b, k, p, c=c)"
      ]
    },
    {
      "cell_type": "code",
      "execution_count": null,
      "metadata": {},
      "outputs": [],
      "source": [
        "# 3.2)\n",
        "# Graficar la solución numérica de la ecuación diferencial y ls solución analítica\n",
        "# con condicion inicial V(0) = -65mV\n",
        "plt.figure(figsize=(10, 6))\n",
        "plt.plot(t, w[0,:], label='V(t)', color='b')\n",
        "plt.plot(t,f2(v_0[0],t),label='Solución analítica I=2nA', color='red', linestyle='--')\n",
        "plt.plot(t,f(v_0[0],t),label='Potencial de reposo E', color='red', linestyle='--')\n",
        "\n",
        "# Marcar lineas horizontales en Vu (el umbral de disparo) \n",
        "plt.axhline(y=-50, color='g', linestyle='--', label='Umbral de disparo Vth')\n",
        "\n",
        "# Configuración de la gráfica\n",
        "plt.xlabel('t (ms)')\n",
        "plt.ylabel('V(t) (mV)')\n",
        "plt.grid(True)\n",
        "plt.legend()\n",
        "plt.show()\n",
        "\n"
      ]
    },
    {
      "cell_type": "code",
      "execution_count": 25,
      "metadata": {},
      "outputs": [],
      "source": [
        "#3.4)\n",
        "def f4(x,t,p):\n",
        "    \"\"\"  \n",
        "    Modelo de neurona de integración y disparo. Dado por la ODE:\n",
        "    dV/dt = 1/tao (E - V + R*I)\n",
        "    Donde los parametros son:\n",
        "    \n",
        "    V = Potencial de membrana (mV)\n",
        "    E = Potencial de reposo (-65mV)\n",
        "    tao = tiempo de relajación (10ms)\n",
        "    R = resistencia electrica (10mV/nA)\n",
        "    I(t) = corriente de entrada (nA)\n",
        "\n",
        "    Donde las condiciones iniciales son:\n",
        "    V(0) = v0\n",
        "    I(t) = i0\n",
        "    \"\"\"\n",
        "    E = p[0]\n",
        "    tao = p[1]\n",
        "    R = p[2]\n",
        "    I = p[3] * np.cos(t/30) # Corriente de entrada\n",
        "    return np.array([(E - x + R*I)/tao])"
      ]
    },
    {
      "cell_type": "code",
      "execution_count": 26,
      "metadata": {},
      "outputs": [],
      "source": [
        "v_0 = np.array([-65])\n",
        "a,b = 0,500\n",
        "h = 0.05\n",
        "k = int((b-a)/h)\n",
        "p = np.array([-65,10,10,2.5]) # E, tao, R, I"
      ]
    },
    {
      "cell_type": "code",
      "execution_count": 30,
      "metadata": {},
      "outputs": [],
      "source": [
        "t,w = integrador_ode(rk4, f4, v_0, a, b, k, p, c=c)"
      ]
    },
    {
      "cell_type": "code",
      "execution_count": null,
      "metadata": {},
      "outputs": [],
      "source": [
        "plt.figure(figsize=(10, 6))\n",
        "plt.plot(t, w[0,:], label='V(t)', color='b')\n",
        "\n",
        "# Marcar lineas horizontales en Vu (el umbral de disparo) y E (potencial de reposo)\n",
        "plt.axhline(y=-50, color='g', linestyle='--', label='Umbral de disparo Vth')\n",
        "plt.axhline(y=-65, color='r', linestyle='--', label='Potencial de reposo E')\n",
        "\n",
        "# Configuración de la gráfica\n",
        "plt.xlabel('t (ms)')\n",
        "plt.ylabel('V(t) (mV)')\n",
        "plt.grid(True)\n",
        "plt.legend()\n",
        "plt.show()\n"
      ]
    }
  ],
  "metadata": {
    "colab": {
      "provenance": []
    },
    "kernelspec": {
      "display_name": "Python 3",
      "name": "python3"
    },
    "language_info": {
      "codemirror_mode": {
        "name": "ipython",
        "version": 3
      },
      "file_extension": ".py",
      "mimetype": "text/x-python",
      "name": "python",
      "nbconvert_exporter": "python",
      "pygments_lexer": "ipython3",
      "version": "3.10.12"
    }
  },
  "nbformat": 4,
  "nbformat_minor": 0
}
